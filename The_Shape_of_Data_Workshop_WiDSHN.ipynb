{
 "cells": [
  {
   "cell_type": "markdown",
   "id": "56a9d720",
   "metadata": {
    "deletable": false,
    "editable": false
   },
   "source": [
    "# Taller: La Forma de los Datos\n",
    "### Women in Data Science Honduras\n",
    "\n",
    "#### Autora: Claudette Martínez"
   ]
  },
  {
   "cell_type": "markdown",
   "id": "a73df351",
   "metadata": {
    "deletable": false,
    "editable": false
   },
   "source": [
    "En este taller nos embarcaremos en aprender los conceptos básicos de los 4 momentos de una distribución estadística. Cada momento representa un conjunto de métricas que se encarga de definir aspectos específicos de un set de datos como ser medidas de tendencia central, dispersión, tendencia a valores atípicos y sesgo. La importancia de estos momentos en la ciencia de datos es que nos permiten conocer los datos con los cuales estamos trabajando para tomar las decisiones correctas en cuanto a limpieza y transformaciones a realizar a los datos para asegurar que los modelos predictivos se entrenen con la información más optima."
   ]
  },
  {
   "cell_type": "markdown",
   "id": "67da7e17",
   "metadata": {
    "deletable": false,
    "editable": false
   },
   "source": [
    "## Tabla de Contenido\n",
    "- [Descripción de Momento](#1)\n",
    "- [Definición de una Distribución Estadistica](#2)\n",
    "- [Exploración de una Distribución de Datos](#3)\n",
    "- [Conociendo Nuestro Dataset](#4)\n",
    "    - [Importando librerias](#4.1)\n",
    "    - [Cargando el dataset a analizar](#4.2)\n",
    "    - [Exploración inicial del dataset](#4.3)\n",
    "    - [Primeras estadísticas de nuestro dataset](#4.4)\n",
    "    - [Generando visualiciones de la disrtribución de los datos](#4.5)\n",
    "    - [Puntos clave del análisis preliminar del dataset](#4.6)\n",
    "- [Momentos de una Distribucion Estadística](#5)\n",
    "- [Momento de Ubicación](#6)\n",
    "    - [Cálculo de la media para precio de casas por colonia](#6.1)\n",
    "    - [Medidas de tendencia central robustas](#6.2)\n",
    "    - [Analizando valores atípicos](#6.3)\n",
    "- [Momento de Variabilidad](#7)\n",
    "    - [Medidas de variabilidad robustas](#7.1)\n",
    "    - [Cálculo de la desviación estándar para precio de casas por colonia](#7.2)\n",
    "- [Asimetría o Sesgo](#8)\n",
    "    - [Tipos de asimetría](#8.1)\n",
    "    - [Cálculo de la asimetría para precio de casas por colonia](#8.2)\n",
    "- [Cutorsis](#9)\n",
    "    - [Tipos de curtosis](#9.1)\n",
    "    - [Cálculo de la curtosis para precio de casas por colonia](#9.2)\n",
    "- [Conclusiones](#10)\n",
    "- [Bibliografía](#11)"
   ]
  },
  {
   "cell_type": "markdown",
   "id": "7e1ef180",
   "metadata": {
    "deletable": false,
    "editable": false
   },
   "source": [
    "<a name='1'></a>\n",
    "## Descripción de Momento\n",
    "\n",
    "Para poder entender que son los momentos de una distribución estadística, primero aprendemos que es un momento desde una perspectiva matemática, ya que esta es la descripción más general de momento, la cual puede ser ampliada a una variedad de campos.\n",
    "\n",
    "**Momento**: En matemáticas, los momentos de una función son ciertas medidas *cuantitativas* relacionadas con la forma de la gráfica de la función.\n",
    "\n",
    "En el caso de la estadística, existen una amplia variedad de momentos, los cuales significan que existe una amplia variedad de medidas para definir y medir diferentes aspectos de un conjunto de datos.\n",
    "\n",
    "Hablando específicamente de un conjunto de datos, los momentos estadísticos constituyen una serie de métricas que nos dan información sobre la forma en que están distribuidos los datos.\n"
   ]
  },
  {
   "cell_type": "markdown",
   "id": "682d5aef",
   "metadata": {
    "deletable": false,
    "editable": false
   },
   "source": [
    "<a name='2'></a>\n",
    "## Definición de una Distribución Estadistica\n",
    "\n",
    "Una distribución estadística o distribución de probabilidad determina como los valores están esparcidos o distribuidos a lo largo de un rango determinado. Estas distribuciones pueden ser clasificadas en base a distintos aspectos como ser tipo de datos *(discretos o continuos)* o el grado de probabilidad que tiene cada valor de aparecer en el dataset. Aquí te muestro como lucen algunos tipos de distribuciones:\n",
    "\n",
    "<img src=\"https://raw.githubusercontent.com/claumart/DA_The_Shape_of_Data_WiDSHN_Workshop/main/images/distributions_examples2.png\">\n",
    "<caption><center><b>Figura 1 - Diferentes tipos de distribuciones</b></center></caption><br>\n",
    "\n",
    "Como puedes ver, la forma en que se distribuyen los valores de un conjunto de datos puede adoptar una gran cantidad de formas \n",
    "\n",
    "\n"
   ]
  },
  {
   "cell_type": "markdown",
   "id": "d0a4f1bd",
   "metadata": {
    "deletable": false,
    "editable": false
   },
   "source": [
    "<a name='3'></a>\n",
    "## Exploración de una Distribución de Datos\n",
    "\n",
    "Existen múltiples formas de explorar un conjunto de datos, la manera más rudimentaria de hacerlo es visualizando la data directamente desde la fuente de datos. Debido a que el cerebro humano es más hábil identificando *patrones* visualmente de forma natural que mediante el análisis de datos en bruto, es mejor utilizar visualizaciones de datos, las cuales están constituidas por un gran conjunto de herramientas de análisis y graficas muy útiles para identificar ciertas características en los datos de manera rápida y sencilla.\n",
    "\n",
    "Aquí explicaremos tres recursos muy utilizados en el análisis datos y que nos permiten observar la distribución de una variable de forma instantánea.\n",
    "\n",
    "**Tabla de Frecuencia**: Es una herramienta estadística que organiza y resume la información sobre la distribución de datos. Básicamente nos muestra la frecuencia con la cual aparecer cada valor del conjunto de datos, está clasificación de frecuencia se puede hacer en base a valores únicos o en base a un número determinado de segmentos con una amplitud especifica.\n",
    "\n",
    "**Histograma**: El histograma nos permite visualizar una tabla de frecuencia de forma gráfica, con los segmentos en el eje X y la frecuencia o conteo de valores en el eje Y.\n",
    "\n",
    "**Diagrama de Densidad**: Es muy similar al histograma, salvo que muestra la información como una línea continua en lugar de segmentos. El área total debajo de la curva de un diagrama de densidad siempre suma 1.\n",
    "\n"
   ]
  },
  {
   "cell_type": "markdown",
   "id": "a6f3b131",
   "metadata": {
    "deletable": false,
    "editable": false
   },
   "source": [
    "<a name='4'></a>\n",
    "## Conociendo Nuestro Dataset\n",
    "\n",
    "El conjunto de datos utilizado en este taller se basa en los precios de casas de diferentes colonias de Honduras.\n",
    "\n",
    "Se aclara que es un dataset generado con propósitos académicos, por lo tanto la información contendida dentro de él no refleja la realidad de los valores reales de los precios de una casa en Honduras."
   ]
  },
  {
   "cell_type": "markdown",
   "id": "75f976fa",
   "metadata": {
    "deletable": false,
    "editable": false
   },
   "source": [
    "<a name='4.1'></a>\n",
    "### Importando librerias\n",
    "\n",
    "Antes de iniciar la exploración de nuestro dataset, primero importaremos en nuestro espacio de trabajo las librerías necesarias para poder realizar nuestro análisis"
   ]
  },
  {
   "cell_type": "code",
   "execution_count": null,
   "id": "55116bb0",
   "metadata": {},
   "outputs": [],
   "source": [
    "import numpy as np\n",
    "import pandas as pd\n",
    "import matplotlib.pyplot as pyplot\n",
    "import seaborn as sns"
   ]
  },
  {
   "cell_type": "code",
   "execution_count": null,
   "id": "c69bfd0e",
   "metadata": {},
   "outputs": [],
   "source": [
    "#Configuramos el estilo de las gráficas que estaremos generando en Seaborn\n",
    "sns.set(style=\"darkgrid\")\n",
    "\n",
    "#Formateamos la salida de los cálculos numéricos que realizaremos en los datasets\n",
    "pd.options.display.float_format = '{:,.2f}'.format\n"
   ]
  },
  {
   "cell_type": "markdown",
   "id": "9053719f",
   "metadata": {
    "deletable": false,
    "editable": false
   },
   "source": [
    "<a name='4.2'></a>\n",
    "### Cargando el dataset a analizar"
   ]
  },
  {
   "cell_type": "code",
   "execution_count": null,
   "id": "33e9b69e",
   "metadata": {},
   "outputs": [],
   "source": [
    "ruta_dataset = \"https://raw.githubusercontent.com/claumart/DA_The_Shape_of_Data_WiDSHN_Workshop/main/the_shape_of_data_dataset_WiDSHN.csv\"\n",
    "dataset_principal = pd.read_csv(ruta_dataset)"
   ]
  },
  {
   "cell_type": "markdown",
   "id": "bdab32af",
   "metadata": {
    "deletable": false,
    "editable": false
   },
   "source": [
    "<a name='4.3'></a>\n",
    "### Exploración inicial del dataset"
   ]
  },
  {
   "cell_type": "code",
   "execution_count": null,
   "id": "a9bd6240",
   "metadata": {},
   "outputs": [],
   "source": [
    "#Para saber el número de registros (observaciones) y columnas (atributos)\n",
    "print(dataset_principal.shape)"
   ]
  },
  {
   "cell_type": "code",
   "execution_count": null,
   "id": "3f5b5e92",
   "metadata": {},
   "outputs": [],
   "source": [
    "#Exploramos los primeros 5 registros con la función head()\n",
    "dataset_principal.head()"
   ]
  },
  {
   "cell_type": "code",
   "execution_count": null,
   "id": "643e2f55",
   "metadata": {},
   "outputs": [],
   "source": [
    "#Exploramos los tipos de datos de cada atributo o variable con la función info()\n",
    "print(dataset_principal.info())"
   ]
  },
  {
   "cell_type": "code",
   "execution_count": null,
   "id": "437ce1d1",
   "metadata": {},
   "outputs": [],
   "source": [
    "#Exploramos algunas datos útiles de las variables cualitativas (Dtype=object)\n",
    "dataset_principal.describe(include=object).transpose()"
   ]
  },
  {
   "cell_type": "code",
   "execution_count": null,
   "id": "8f03a074",
   "metadata": {},
   "outputs": [],
   "source": [
    "#Visualizamos los valores únicos por Ciudad y por Colonia\n",
    "print(\"Valores Únicos para Ciudad\") \n",
    "print(dataset_principal[\"Ciudad\"].value_counts())\n",
    "print(\"\\n\\nValores Únicos para Colonia\") \n",
    "print(dataset_principal[\"Colonia\"].value_counts())"
   ]
  },
  {
   "cell_type": "code",
   "execution_count": null,
   "id": "3e6ee512",
   "metadata": {},
   "outputs": [],
   "source": [
    "#Visualizamos las combinaciones únicas de Ciudad y Colonia\n",
    "dataset_principal.groupby(['Ciudad', 'Colonia']).size()"
   ]
  },
  {
   "cell_type": "code",
   "execution_count": null,
   "id": "1476bae7",
   "metadata": {},
   "outputs": [],
   "source": [
    "#Dividimos nuestro dataset principal en tres datasets, cada uno enfocandose en analizar una colonia en específico\n",
    "df_miraflores = dataset_principal[(dataset_principal['Ciudad'] == 'Tegucigalpa') \n",
    "                                  & (dataset_principal['Colonia'] == 'Miraflores')]\n",
    "\n",
    "df_mh = dataset_principal[(dataset_principal['Ciudad'] == 'San Pedro Sula') \n",
    "                                          & (dataset_principal['Colonia'] == 'Merendón Hills')]\n",
    "\n",
    "df_independencia = dataset_principal[(dataset_principal['Ciudad'] == 'La Ceiba') \n",
    "                                                     & (dataset_principal['Colonia'] == 'Independencia')]"
   ]
  },
  {
   "cell_type": "markdown",
   "id": "e7b9057d",
   "metadata": {
    "deletable": false,
    "editable": false
   },
   "source": [
    "<a name='4.4'></a>\n",
    "### Primeras estadísticas de nuestro dataset"
   ]
  },
  {
   "cell_type": "code",
   "execution_count": null,
   "id": "6c178f00",
   "metadata": {},
   "outputs": [],
   "source": [
    "#Calculamos algunas estadísticas iniciales con la función describe()\n",
    "#Luego unificamos los resultados de cada dataset con la función concat()\n",
    "colonias_stats = pd.concat([df_miraflores.describe().rename(columns={'PrecioCasa_lps': 'Miraflores'})\n",
    "                            , df_mh.describe().rename(columns={'PrecioCasa_lps': 'Merendón Hills'})\n",
    "                            , df_independencia.describe().rename(columns={'PrecioCasa_lps': 'Independencia'})]\n",
    "                           , axis=1, join=\"inner\")\n",
    "colonias_stats.transpose()"
   ]
  },
  {
   "cell_type": "code",
   "execution_count": null,
   "id": "d728eca6",
   "metadata": {},
   "outputs": [],
   "source": [
    "#con la función cut() creamos un número específico de segmentos, los cuales se usan para crear una tabla de Frecuencia\n",
    "pd.cut(df_miraflores['PrecioCasa_lps'], 10).value_counts(sort=False)"
   ]
  },
  {
   "cell_type": "markdown",
   "id": "be699718",
   "metadata": {
    "deletable": false,
    "editable": false
   },
   "source": [
    "<a name='4.5'></a>\n",
    "### Generando visualiciones de la distribución de los datos\n",
    "\n",
    "Tal como se habló en apartados anteriores, haremos uso de los histogramas y diagramas de densidad para conocer mejor como están distribuidos nuestros datos."
   ]
  },
  {
   "cell_type": "code",
   "execution_count": null,
   "id": "83003128",
   "metadata": {},
   "outputs": [],
   "source": [
    "def plotHistogram(dataset1, dataset2, dataset3, kde_flag):\n",
    "    #Primero configuramos el template de nuestra figura, lo creamos con 1 fila y 3 columnas, cada columna es un plot\n",
    "    fig, (plot1, plot2, plot3) = pyplot.subplots(1,3, figsize=(12, 3))\n",
    "    \n",
    "    #Creamos cada plot en base a un respectivo dataset\n",
    "    sns.histplot(dataset1, bins=10, kde=kde_flag, ax=plot1)\n",
    "    sns.histplot(dataset2, bins=10, kde=kde_flag, ax=plot2)\n",
    "    sns.histplot(dataset3, bins=10, kde=kde_flag, ax=plot3)\n",
    "    \n",
    "    #Añadimos los títulos a cada gráfico\n",
    "    plot1.set_title('Miraflores')\n",
    "    plot2.set_title('Merendón Hills')\n",
    "    plot3.set_title('Independencia')\n",
    "    \n",
    "    #Añadimos el título a la figura\n",
    "    fig.suptitle('Histograma Precios de Casa por Colonia')\n",
    "    \n",
    "    #Configuramos el espaciado entre gráficos\n",
    "    pyplot.subplots_adjust(wspace=0.3, top=0.8)\n",
    "    \n",
    "    pyplot.show()\n",
    "\n",
    "#Llamamos a la función que acabamos de crear para que dibuje nuestra visualización\n",
    "plotHistogram(df_miraflores['PrecioCasa_lps'], df_mh['PrecioCasa_lps'], df_independencia['PrecioCasa_lps'], False)"
   ]
  },
  {
   "cell_type": "code",
   "execution_count": null,
   "id": "4153b51d",
   "metadata": {},
   "outputs": [],
   "source": [
    "#Similar a la visualización anterior, creamos gráficos de densidad para cada dataset\n",
    "def plotKDE(dataset1, dataset2, dataset3):\n",
    "    fig, (plot1, plot2, plot3) = pyplot.subplots(1,3, figsize=(12, 3))\n",
    "    sns.kdeplot(dataset1, ax=plot1)\n",
    "    plot1.set_title('Miraflores')\n",
    "    sns.kdeplot(dataset2, ax=plot2)\n",
    "    plot2.set_title('Merendón Hills')\n",
    "    sns.kdeplot(dataset3, ax=plot3)\n",
    "    plot3.set_title('Independencia')\n",
    "    fig.suptitle('Diagrama de Densidad de Precios de Casa por Colonia')\n",
    "    pyplot.subplots_adjust(wspace=0.3, top=0.8)\n",
    "    pyplot.show()\n",
    "\n",
    "plotKDE(df_miraflores['PrecioCasa_lps'], df_mh['PrecioCasa_lps'], df_independencia['PrecioCasa_lps'])"
   ]
  },
  {
   "cell_type": "code",
   "execution_count": null,
   "id": "23efb356",
   "metadata": {},
   "outputs": [],
   "source": [
    "plotHistogram(df_miraflores['PrecioCasa_lps'], df_mh['PrecioCasa_lps'], df_independencia['PrecioCasa_lps'], True)"
   ]
  },
  {
   "cell_type": "markdown",
   "id": "a79273d7",
   "metadata": {
    "deletable": false,
    "editable": false
   },
   "source": [
    "<a name='4.6'></a>\n",
    "### Puntos clave del análisis preliminar del dataset\n",
    "\n",
    "Con la exploración inicial realizada al dataset podemos concluir lo siguiente:\n",
    "-\tEl dataset está conformado por 300 registros y tres atributos principales\n",
    "-\tEl dataset sólo contiene una colonia por ciudad, por lo cual se decidió dividir el dataset por cada ciudad/colonia y así efectuar un análisis más específico\n",
    "-\tEn gráficas generadas podemos notar que el dataset de la colonia independencia posee una distribución diferente a los demás\n"
   ]
  },
  {
   "cell_type": "markdown",
   "id": "5ed66c71",
   "metadata": {
    "deletable": false,
    "editable": false
   },
   "source": [
    "<a name='5'></a>\n",
    "## Momentos de una Distribución Estadística\n",
    "\n",
    "Los momentos de una distribución estadística son un conjunto de métricas que nos permiten conocer la forma en cómo se distribuyen los datos y su comportamiento a lo largo de dicha distribución.\n",
    "Son 4 los momentos principales de una distribución estadística:\n",
    "\n",
    "1. Ubicación o medidas de tendencia Central\n",
    "\n",
    "2. Variabilidad o medidas de dispersión\n",
    "\n",
    "3. Asimetría o Sesgo\n",
    "\n",
    "4. Curtosis\n",
    "\n",
    "A continuación estudiaremos cada uno de ellos"
   ]
  },
  {
   "cell_type": "markdown",
   "id": "b7c7cba2",
   "metadata": {
    "deletable": false,
    "editable": false
   },
   "source": [
    "<a name='6'></a>\n",
    "## Momento de Ubicación\n",
    "\n",
    "Este es el primer momento y hace referencia a las métricas utilizadas para calcular el valor central de la distribución de datos, este valor es una estimación de donde se encuentra ubicados la mayoría de los datos. Este valor se puede calcular de diferentes formas:\n",
    "\n",
    "**Media**: También llamada promedio, es la forma más típica de calcular el valor central de una distribución, \n",
    "se puede definir como la suma de todos los valores dividido por el número de valores.\n",
    "\n",
    "$$Media = \\overline{x} = \\frac{\\sum_{i = 1}^{n}x_{i}}{n}$$\n",
    "\n",
    "Donde\n",
    "- $n$: número total de observaciones\n",
    "- $x_{i}$: valor individual observado\n",
    "\n",
    "La desventaja de la media con respecto a otras medidas de tendencia central es que es susceptible a valores atípicos.\n"
   ]
  },
  {
   "cell_type": "markdown",
   "id": "5f65bdfd",
   "metadata": {
    "deletable": false,
    "editable": false
   },
   "source": [
    "<a name='6.1'></a>\n",
    "### Cálculo de la media para precio de casas por colonia"
   ]
  },
  {
   "cell_type": "code",
   "execution_count": null,
   "id": "c067ea6f",
   "metadata": {},
   "outputs": [],
   "source": [
    "#Calculamos la media con la función mean() de pandas\n",
    "media_stats = pd.DataFrame({'Miraflores': [df_miraflores['PrecioCasa_lps'].mean()]\n",
    ", 'Merendón Hills': [df_mh['PrecioCasa_lps'].mean()]\n",
    ", 'Independencia': [df_independencia['PrecioCasa_lps'].mean()]},\n",
    "                          index=pd.Index([\"Promedio\"]))\n",
    "media_stats"
   ]
  },
  {
   "cell_type": "markdown",
   "id": "4adbe7bf",
   "metadata": {
    "deletable": false,
    "editable": false
   },
   "source": [
    "<a name='6.2'></a>\n",
    "### Medidas de tendencia central robustas\n",
    "\n",
    "Son métricas que no son susceptibles a valores atípicos\n",
    "\n",
    "**Valor Atípico**: Son valores muy diferentes al resto de datos, generalmente valores muy bajos o extremadamente altos.\n",
    "\n",
    "Algunas de estás métricas más utilizadas son las siguientes:\n",
    "\n",
    "**Mediana**: Es el valor donde la mitad de los datos están por encima de él, y la otra mitad por debajo. En otras palabras, es el valor medio en una lista ordenada de datos, si el número de datos es par, entonces la mediana es la suma de los dos valores centrales divididos entre dos. Debido a que la mediana sólo depende de los valores centrales, los valores atípicos no afectan su resultado.\n",
    "\n",
    "**Moda**: Es el valor que más se repite en un conjunto de datos y suele ser usada para valores discretos. A diferencia de la media y la media, un conjunto de datos puede tener varias modas. Es decir, varios valores que se repiten con la misma frecuencia.\n",
    "\n",
    "**Media Acotada**: También llamada media truncada, es el calculo de la media después de haber ordenado los datos y haber descartado un número fijo de valores atípicos al comienzo y final de los datos. Si soló los valores de un extremo de la lista ordenada de datos son descartados, entonces recibe el nombre de media acotada por la izquierda o media acotada por la derecha según sea el caso.\n",
    "\n",
    "$$Media Acotada = \\overline{x} = \\frac{\\sum_{i = p + 1}^{n - p}x_{i}}{n - 2p}$$\n",
    "\n",
    "Donde\n",
    "- $n$: número total de observaciones\n",
    "- $x_{i}$: valor individual debidamente ordenado\n",
    "- $p$: número de valores a omitir\n"
   ]
  },
  {
   "cell_type": "markdown",
   "id": "6410ec0b",
   "metadata": {
    "deletable": false,
    "editable": false
   },
   "source": [
    "<a name='6.3'></a>\n",
    "### Analizando valores atípicos\n",
    "\n",
    "Cómo pudimos ver en nuestro análisis preliminar, la distribución de precios de casas para la colonia Independencia en La Ceiba, lucía diferente, por lo cual podemos presumir que existen ciertos valores que estén provocando este fenómeno.\n",
    "\n",
    "A continuación, veamos más de cerca este dataset"
   ]
  },
  {
   "cell_type": "code",
   "execution_count": null,
   "id": "184bf1a1",
   "metadata": {},
   "outputs": [],
   "source": [
    "#Primero ordenamos nuestra data con la función sort_values() de pandas\n",
    "#Una vez que la data ya está ordenada procedemos a visualizar los últimos 5 registros con la función tail()\n",
    "df_independencia.sort_values(by=['PrecioCasa_lps']).tail()"
   ]
  },
  {
   "cell_type": "markdown",
   "id": "7680678e",
   "metadata": {
    "deletable": false,
    "editable": false
   },
   "source": [
    "Como podemos observar existe un valor que es mucho mayor a los demás valores. Luego de realizar una investigación más exhaustiva sobre este “valor atípico” se encontró que corresponde al precio de una casa construida por una millonaria extranjera, quien decidió construir una casa en La Colonia Independencia luego de pasar sus vacaciones en Honduras.\n",
    "\n",
    "Para calcular el valor de tendencia central, inicialmente utilizamos la media, pero como se dijo anteriormente, esta estimación se está viendo afectada por el valor atípico, veamos una comparación de esta estimación con otra métrica de tendencia central robusta; la mediana."
   ]
  },
  {
   "cell_type": "code",
   "execution_count": null,
   "id": "709c710b",
   "metadata": {
    "scrolled": true
   },
   "outputs": [],
   "source": [
    "def plotComparisonLocationMetrics(variable, titulo):\n",
    "    pyplot.figure(figsize=(8,3))\n",
    "    sns.kdeplot(variable)\n",
    "    sns.despine(top=True, right=True, left=True)\n",
    "    pyplot.title(titulo, fontdict=dict(fontsize=20))\n",
    "    \n",
    "    # Calculamos la media y mediana\n",
    "    media_precio = variable.mean()\n",
    "    mediana_precio = variable.median()\n",
    "    \n",
    "    #Crear las etiquetas para la leyenda\n",
    "    etiqueta_media = \"Media: {estimacion:,.2f}\".format(estimacion = media_precio)\n",
    "    etiqueta_mediana = \"Mediana: {estimacion:,.2f}\".format(estimacion = mediana_precio)\n",
    "\n",
    "    # Creamos las líneas que indican la media y la mediana\n",
    "    pyplot.axvline\n",
    "    pyplot.axvline(media_precio, color=\"red\", label= etiqueta_media)\n",
    "    pyplot.axvline(mediana_precio, color=\"purple\", label= etiqueta_mediana)\n",
    "    pyplot.legend()\n",
    "#Llamamos a la función que acabamos de crear para que genere el gráfico\n",
    "plotComparisonLocationMetrics(df_independencia['PrecioCasa_lps'], \"Precio de Casas Colonia Independencia\")"
   ]
  },
  {
   "cell_type": "markdown",
   "id": "85d8af1c",
   "metadata": {
    "deletable": false,
    "editable": false
   },
   "source": [
    "Al comparar ambas métricas podemos observar que la diferencia entre una y otra es más de medio millón, si observamos la línea que hace referencia a la mediana, se encuentra más al centro del pico de la distribución, por lo tanto, en este caso podría ser una mejor estimación de tendencia central que la media. \n",
    "\n",
    "Otra opción que podemos aplicar es excluir los valores atípicos, y volver a calcular la media sin dichos valores, lo cual sería equivalente a una media acotada, veamos este ejemplo a continuación"
   ]
  },
  {
   "cell_type": "code",
   "execution_count": null,
   "id": "3e44f515",
   "metadata": {},
   "outputs": [],
   "source": [
    "#Eliminamos el valor atípico de nuestro dataset con la función drop() de pandas\n",
    "#Previamente ya habíamos identificado el índice o número de registro del valor atípico, así que lo pasamos como parámetro\n",
    "df_independencia_sva = df_independencia.drop(index=200).sort_values(by=['PrecioCasa_lps'])\n",
    "df_independencia_sva.tail()"
   ]
  },
  {
   "cell_type": "code",
   "execution_count": null,
   "id": "53c0b1e2",
   "metadata": {},
   "outputs": [],
   "source": [
    "#volvemos a gráficar lasa estimaciones de tendencia central, esta vez sin valores atípicos\n",
    "plotComparisonLocationMetrics(df_independencia_sva['PrecioCasa_lps'], \"Precio de Casas Colonia Independencia\")"
   ]
  },
  {
   "cell_type": "markdown",
   "id": "f6798aa2",
   "metadata": {
    "deletable": false,
    "editable": false
   },
   "source": [
    "Como puedes ver, después de eliminar el valor atípico de nuestro conjunto de datos, ahora ambas estimaciones son más similares, y la media refleja mejor la realidad de lo que cuestan la mayoría de las casas en la colonia Independencia."
   ]
  },
  {
   "cell_type": "markdown",
   "id": "567e862c",
   "metadata": {
    "deletable": false,
    "editable": false
   },
   "source": [
    "<a name='7'></a>\n",
    "## Momento de Variabilidad\n",
    "\n",
    "Representa el segundo momento de una distribución y hace referencia a las métricas utilizadas para calcular el nivel de dispersión de los datos.\n",
    "\n",
    "Un ejemplo muy común para definir esta característica de un conjunto de datos es el ejemplo de las edades, Supongamos que estamos analizado dos grupos de amigos, cada grupo está conformado por personas de las siguientes edades:\n",
    "\n",
    "- **Grupo A**: {15, 16, 17, 17, 18}\n",
    "  \n",
    "- **Grupo B**: {20, 26, 30, 39, 45}\n",
    "\n",
    "A simple vista podemos ver que los amigos del grupo *A* poseen edades muy similares, las cuales van prácticamente seguidas una después de la otra, por otro lado, con el grupo *B* podemos notar que las edades de cada persona son muy variadas y existe una diferencia considerable de años entre cada persona, por lo tanto, podemos decir que las edades de los amigos que conforman el grupo *B* tienen un mayor grado de dispersión o variabilidad en relación al grupo *A*.\n",
    "\n",
    "Al igual que con las medidas de tendencia central, también existen múltiples métricas para calcular la variabilidad. Las más utilizadas son las métricas basadas en estimaciones como la Varianza y la Desviación Estándar, las cuales se basan entre la diferencia o desviación que existe entre el valor de tendencia central y los datos observados.\n",
    "\n",
    "**Varianza**: Es el promedio de las desviaciones al cuadrado con respecto a la media.\n",
    "\n",
    "$$Varianza = s^{2} = \\frac{\\sum_{i = 1}^{n}(x_{i} - \\overline{x})^2}{n - 1}$$\n",
    "\n",
    "Donde\n",
    "- $n$: número total de observaciones\n",
    "- $x_{i}$: valor individual observado\n",
    "- $\\overline{x}$: media\n",
    "\n",
    "**Desviación Estándar**: Es la raíz cuadrada de la varianza\n",
    "\n",
    "$$Desviación Estándar = s = \\sqrt{s^2}$$\n",
    "\n",
    "Donde\n",
    "- $s^2$: Varianza\n"
   ]
  },
  {
   "cell_type": "markdown",
   "id": "2494fdd2",
   "metadata": {
    "deletable": false,
    "editable": false
   },
   "source": [
    "<a name='7.1'></a>\n",
    "### Medidas de variabilidad robustas\n",
    "\n",
    "Tanto la varianza como la desviación estándar son susceptibles a valores atípicos, ya que toman a consideración todo el conjunto de datos para poder ser calculadas.\n",
    "\n",
    "Si se requiere utilizar métricas de dispersión robustas, podemos recurrir a la Mediana de Desviación absoluta y a la Desviación estándar Acotada.\n",
    "\n",
    "**Mediana de Desviación Absoluta**: A palabras simples, se puede describir como la mediana de las desviaciones con respecto a la mediana, en donde tomaremos el valor central de las desviaciones con respecto a la mediana debidamente ordenadas.\n",
    "\n",
    "$$MDA = Mediana(|x_{1} - m|, |x_{2} - m|, |x_{i} - m|, ..., |x_{n} - m|)$$\n",
    "\n",
    "Donde\n",
    "- $n$: número total de observaciones\n",
    "- $x_{i}$: valor individual observado\n",
    "- $m$: mediana\n",
    "- $|x_{n} - m|$: Desviación con respecto a la mediana debidamente ordenada\n",
    "\n",
    "**Desviación Estándar Acotada**: Es análoga a la media acotada, en donde descartamos un número fijo de valores que se encuentran en los extremos de un conjunto ordenados de datos.\n"
   ]
  },
  {
   "cell_type": "markdown",
   "id": "efe69d76",
   "metadata": {
    "deletable": false,
    "editable": false
   },
   "source": [
    "<a name='7.2'></a>\n",
    "### Cálculo de la desviación estándar para precio de casas por colonia"
   ]
  },
  {
   "cell_type": "code",
   "execution_count": null,
   "id": "862b0064",
   "metadata": {},
   "outputs": [],
   "source": [
    "#Calculamos la desviación estándar con la funcion std() de pandas\n",
    "desviacionSt_stats = pd.DataFrame({'Miraflores': [df_miraflores['PrecioCasa_lps'].std()]\n",
    ", 'Merendón Hills': [df_mh['PrecioCasa_lps'].std()]\n",
    ", 'Independencia': [df_independencia['PrecioCasa_lps'].std()],\n",
    "                                  'Independencia SVA': df_independencia_sva['PrecioCasa_lps'].std()},\n",
    "                          index=pd.Index([\"Desviación Estándar\"]))\n",
    "desviacionSt_stats"
   ]
  },
  {
   "cell_type": "markdown",
   "id": "410395b6",
   "metadata": {
    "deletable": false,
    "editable": false
   },
   "source": [
    "Como podemos observar, la desviación de los precios o dispersión de los datos con respecto a la medida de tendencia central es alta, con lo cual podemos intuir que los precios de las casas en las colonias de Honduras son muy variados.\n",
    "\n",
    "También podemos notar que la desviación estándar de nuestro dataset de la colonia Independencia con el valor atípico es mucho mayor al valor obtenido cuando obviamos dicho valor."
   ]
  },
  {
   "cell_type": "markdown",
   "id": "901de97e",
   "metadata": {
    "deletable": false,
    "editable": false
   },
   "source": [
    "<a name='8'></a>\n",
    "## Asimetría o Sesgo\n",
    "\n",
    "Es el tercer momento de una distribución, aquí se busca describir la tendencia de un conjunto de datos a concentrarse o distribuirse más de un lado que de otro con respecto al valor de tendencia central.\n",
    "\n",
    "Se calcula por medio del coeficiente de Asimetría, la fórmula para calcular dicha métrica es la siguiente:\n",
    "\n",
    "$$Asimetría = A = \\frac{n}{(n -1)(n - 2)}\\sum_{i = 1}^{n}(\\frac{x_{i} - \\overline{x}}{s})^3$$\n",
    "\n",
    "Donde\n",
    "- $n$: número total de observaciones\n",
    "- $x_{i}$: valor individual observado\n",
    "- $\\overline{x}$: media\n",
    "- $s$: Desviación Estándar"
   ]
  },
  {
   "cell_type": "markdown",
   "id": "ee423877",
   "metadata": {
    "deletable": false,
    "editable": false
   },
   "source": [
    "<a name='8.1'></a>\n",
    "### Tipos de Asimetría\n",
    "\n",
    "Dependiendo del valor obtenido con el coeficiente de asimetría o de la forma de la distribución en las diferentes graficas de datos podemos clasificar la asimetría de la siguiente manera:\n",
    "\n",
    "**Asimetría simétrica**: Es cuando los valores se distribuyen de igual forma en ambos lados con respecto a la medida de tendencia central, formando una figura simétrica. Para este tipo de distribuciones el coeficiente de asimetría es cero.\n",
    "\n",
    "**Asimetría Positiva**: Cuando el coeficiente de asimetría es mayor a cero, generalmente los valores de una distribución suelen concentrarse del lado izquierdo.\n",
    "\n",
    "**Asimetría Negativa**: Es cuando el coeficiente de asimetría es menor a cero, los valores de la distribución se concentran del lado derecho, con muy pocos valores al lado izquierdo.\n",
    "\n",
    "<img src=\"https://raw.githubusercontent.com/claumart/DA_The_Shape_of_Data_WiDSHN_Workshop/main/images/skewness_types.webp\">\n",
    "<caption><center><b>Figura 2 - Tipos de Asimetría</b></center></caption><br>"
   ]
  },
  {
   "cell_type": "markdown",
   "id": "0466b9f3",
   "metadata": {
    "deletable": false,
    "editable": false
   },
   "source": [
    "<a name='8.2'></a>\n",
    "### Cálculo de la asimetría para precio de casas por colonia"
   ]
  },
  {
   "cell_type": "code",
   "execution_count": null,
   "id": "c9a313d9",
   "metadata": {},
   "outputs": [],
   "source": [
    "#Calculamos la asimetría con la función  skew() de pandas\n",
    "asimetria_stats = pd.DataFrame({'Miraflores': [df_miraflores['PrecioCasa_lps'].skew()]\n",
    ", 'Merendón Hills': [df_mh['PrecioCasa_lps'].skew()]\n",
    ", 'Independencia': [df_independencia['PrecioCasa_lps'].skew()],\n",
    "                                  'Independencia SVA': df_independencia_sva['PrecioCasa_lps'].skew()},\n",
    "                          index=pd.Index([\"Asimetría o Sesgo\"]))\n",
    "asimetria_stats"
   ]
  },
  {
   "cell_type": "markdown",
   "id": "15bc17b0",
   "metadata": {
    "deletable": false,
    "editable": false
   },
   "source": [
    "Analizando los valores obtenidos del coeficiente de simetría y en base a las visualizaciones de la distribución de los datos que hemos visto podemos concluir lo siguiente:\n",
    "-\tLa distribución de los precios de las casas para la Colonia Miraflores es simétrica, ya que su coeficiente de simetría es casi cero, y visualmente los valores se distribuyen de forma casi igual a ambos lados del estimador de tendencia central.\n",
    "-\tLos precios en Merendón Hills poseen una distribución negativa, dado a su coeficiente de asimetría, y dado a que visualmente los datos se concentran del lado derecho.\n",
    "-\tLos precios de la casa en la colonia Independencia poseen una distribución asimétrica positiva y se concentran mayormente del lado izquierdo con respecto a la medida de tendencia central.\n",
    "- También podemos observar que el coeficiente de asimetría es mucho mayor si tomamos en cuenta el valor atípico.\n"
   ]
  },
  {
   "cell_type": "markdown",
   "id": "e967deac",
   "metadata": {
    "deletable": false,
    "editable": false
   },
   "source": [
    "<a name='9'></a>\n",
    "## Curtosis\n",
    "\n",
    "Es considerado el cuarto momento de una distribución y mide la tendencia de un conjunto de datos a poseer valores atípicos. A nivel visual la curtosis puede ser observada en las visualizaciones de datos a través del tamaño de las colas, una curtosis positiva sugiere colas más pesadas (menos valores extremos), mientras que una curtosis negativa indica colas más ligeras y se mide mediante el coeficiente de curtosis.\n",
    "\n",
    "Una de las fórmulas más comunes para calcular el coeficiente de curtosis es la siguiente:\n",
    "\n",
    "$$Curtosis = K = \\frac{\\frac{1}{n}\\sum_{i = 1}^{n}(x_{i} - \\overline{x})^4}{(\\frac{1}{n}\\sum_{i = 1}^{n}(x_{i} - \\overline{x})^2)^2} - 3$$\n",
    "\n",
    "Donde\n",
    "- $n$: número total de observaciones\n",
    "- $x_{i}$: valor individual observado\n",
    "- $\\overline{x}$: media\n"
   ]
  },
  {
   "cell_type": "markdown",
   "id": "920c5071",
   "metadata": {
    "deletable": false,
    "editable": false
   },
   "source": [
    "<a name='9.1'></a>\n",
    "### Tipos de curtosis\n",
    "\n",
    "Dependiendo del valor del coeficiente de curtosis, podemos clasificar las distribuciones en los siguientes tipos:\n",
    "\n",
    "**Mesocúrtica**: Cuando el coeficiente de curtosis es cero, decimos que es una distribución mesocúrtica, con colas y picos relativamente moderados. Este es el tipo de distribución que se espera ver en la mayoría de los datos.\n",
    "\n",
    "**Leptocúrtica**: Las distribuciones que entran en esta categoría poseen una curtosis positiva, lo cual significa que tienen un pico más pronunciado y colas pesadas o con pendientes empinadas, lo cual indica que los valores de los datos están más concentrados alrededor de la media y hay menos valores atípicos.\n",
    "\n",
    "**Platicúrtica**: Este tipo de distribuciones poseen un coeficiente de curtosis negativo, lo cual se traduce en colas mas ligeras o con pendientes más planas y picos menos elevados. Este tipo de curtosis puede significar una mayor presencia de valores atípicos y que los valores se distribuyen por un rango más amplio.\n",
    "\n",
    "<img src=\"https://raw.githubusercontent.com/claumart/DA_The_Shape_of_Data_WiDSHN_Workshop/main/images/kurtosis_types.webp\">\n",
    "<caption><center><b>Figura 2 - Tipos de Asimetría</b></center></caption><br>\n"
   ]
  },
  {
   "cell_type": "markdown",
   "id": "554bbc54",
   "metadata": {
    "deletable": false,
    "editable": false
   },
   "source": [
    "<a name='9.2'></a>\n",
    "### Cálculo de la curtosis para precio de casas por colonia"
   ]
  },
  {
   "cell_type": "code",
   "execution_count": null,
   "id": "5495cf4c",
   "metadata": {},
   "outputs": [],
   "source": [
    "#Calculamos la curtosis con la función  kurtosis() de pandas\n",
    "curtosis_stats = pd.DataFrame({'Miraflores': [df_miraflores['PrecioCasa_lps'].kurtosis()]\n",
    ", 'Merendón Hills': [df_mh['PrecioCasa_lps'].kurtosis()]\n",
    ", 'Independencia': [df_independencia['PrecioCasa_lps'].kurtosis()],\n",
    "                                  'Independencia SVA': df_independencia_sva['PrecioCasa_lps'].kurtosis()},\n",
    "                          index=pd.Index([\"Curtosis\"]))\n",
    "curtosis_stats"
   ]
  },
  {
   "cell_type": "markdown",
   "id": "909944b8",
   "metadata": {
    "deletable": false,
    "editable": false
   },
   "source": [
    "Analizando los valores obtenidos del coeficiente de simetría y en base a las visualizaciones de la distribución de los datos que hemos visto podemos concluir lo siguiente:\n",
    "\n",
    "- La distribución para los precios de las casas en la colonia Miraflores es mesocúrtica, siendo su coeficiente de curtosis casi cero.\n",
    "- La distribución de los precios de las casas en Merendón Hills e Independencia es Leptocúrtica, al poseer ambas un coeficiente de curtosis positivo, lo cual indica que los datos se concentran en un menor rango.\n",
    "- El coeficiente de curtosis para la colonia independencia si se toma en cuenta en valor atípico es muy alto, dicho coeficiente precisamente busca determinar la presencia de estos valores.\n",
    "\n",
    "A continuación, veamos un análisis del diagrama de densidad para cada distribución, centrándonos en el tercer y cuarto momento (asimetría y curtosis respectivamente):"
   ]
  },
  {
   "cell_type": "code",
   "execution_count": null,
   "id": "b2e37164",
   "metadata": {},
   "outputs": [],
   "source": [
    "def plotKDE2(dataset1, dataset2, dataset3, dataset4):\n",
    "    #Preparamos el template de la figura que sera de 1 fila por 4 columnas\n",
    "    fig, plots = pyplot.subplots(1,4, figsize=(12, 3))\n",
    "    \n",
    "    #Creamos los gráficos\n",
    "    sns.kdeplot(dataset1, ax=plots[0])\n",
    "    sns.kdeplot(dataset2, ax=plots[1])\n",
    "    sns.kdeplot(dataset3, ax=plots[2])\n",
    "    sns.kdeplot(dataset4, ax=plots[3])\n",
    "    \n",
    "    #Formateamos lo que irá en la leyenda de cada gráfico\n",
    "    leyenda1 = \"A: {A:,.2f}\\nK: {K:,.2f}\".format(A = df_miraflores['PrecioCasa_lps'].skew()\n",
    "                                      , K = df_miraflores['PrecioCasa_lps'].kurtosis())\n",
    "    leyenda2 = \"A: {A:,.2f}\\nK: {K:,.2f}\".format(A = df_mh['PrecioCasa_lps'].skew()\n",
    "                                      , K = df_mh['PrecioCasa_lps'].kurtosis())\n",
    "    leyenda3 = \"A: {A:,.2f}\\nK: {K:,.2f}\".format(A = df_independencia['PrecioCasa_lps'].skew()\n",
    "                                      , K = df_independencia['PrecioCasa_lps'].kurtosis())\n",
    "    leyenda4 = \"A: {A:,.2f}\\nK: {K:,.2f}\".format(A = df_independencia_sva['PrecioCasa_lps'].skew()\n",
    "                                      , K = df_independencia_sva['PrecioCasa_lps'].kurtosis())\n",
    "    \n",
    "    #Le añadimos el título a los gráficos\n",
    "    plots[0].set_title('Miraflores')\n",
    "    plots[1].set_title('Merendón Hills')\n",
    "    plots[2].set_title('Independencia')\n",
    "    plots[3].set_title('Independencia SVA')\n",
    "    \n",
    "    #Creamos la leyenda de cada gráfico\n",
    "    plots[0].legend([leyenda1], loc='upper center', bbox_to_anchor=(0.5, -0.05), fontsize='x-large')\n",
    "    plots[1].legend([leyenda2], loc='upper center', bbox_to_anchor=(0.5, -0.05), fontsize='x-large')\n",
    "    plots[2].legend([leyenda3], loc='upper center', bbox_to_anchor=(0.5, -0.05), fontsize='x-large')\n",
    "    plots[3].legend([leyenda4], loc='upper center', bbox_to_anchor=(0.5, -0.05), fontsize='x-large')\n",
    "    \n",
    "    #Removemos las etiquetas y ejes de cada gráfico\n",
    "    for i in range(len(plots)):\n",
    "        plots[i].set(xticks=[], xticklabels='', xlabel='', yticks=[], yticklabels='', ylabel='')\n",
    "    fig.suptitle('Diagrama de Densidad de Precios de Casa por Colonia')\n",
    "    \n",
    "    #Ajustamos los espacios entre gráficos\n",
    "    pyplot.subplots_adjust(wspace=0.1, top=0.8)\n",
    "\n",
    "    pyplot.show()\n",
    "\n",
    "#Llamamos a la funcíon que acabamos de crear para que dibuje nuestra visualización\n",
    "plotKDE2(df_miraflores['PrecioCasa_lps'], df_mh['PrecioCasa_lps']\n",
    "         , df_independencia['PrecioCasa_lps'], df_independencia_sva['PrecioCasa_lps'])"
   ]
  },
  {
   "cell_type": "markdown",
   "id": "6d41a57d",
   "metadata": {
    "deletable": false,
    "editable": false
   },
   "source": [
    "<a name='10'></a>\n",
    "## Conclusiones\n",
    "\n",
    "- Los momentos de una distribución estadística son un conjunto de medida que nos proporcionan información sobre la forma y comportamiento de una distribución.\n",
    "\n",
    "\n",
    "- Para poder entender de manera rápida y fácil como se distribuyen los datos, podemos hacer una de herramientas de análisis de datos como lo son gráficos y tabulaciones.\n",
    "\n",
    "\n",
    "- Cada uno de los momentos de una distribución nos brindan información valiosa la cual puede ser utilizada para determinar que transformaciones o limpieza realizar a los datos según sea el propósito para el cual serán utilizados los datos.\n"
   ]
  },
  {
   "cell_type": "markdown",
   "id": "7d243531",
   "metadata": {
    "deletable": false,
    "editable": false
   },
   "source": [
    "<a name='11'></a>\n",
    "## Bibiolgrafía\n",
    "\n",
    "https://es.wikipedia.org/wiki/Momento_(matem%C3%A1ticas)\n",
    "\n",
    "https://www.linkedin.com/pulse/8-probability-distributions-every-risk-analyst-should-david-vose/\n",
    "\n",
    "https://stock.adobe.com/search?k=binomial+distribution&asset_id=619372352\n",
    "\n",
    "https://www.questionpro.com/blog/es/tabla-de-frecuencias/\n",
    "\n",
    "https://www.decisionescondatos.com/cuales-son-los-4-momentos-estadisticos-de-una-distribucion-de-datos\n",
    "\n",
    "https://www.probabilidadyestadistica.net/tipos-de-asimetria/\n",
    "\n",
    "https://www.questionpro.com/blog/es/curtosis/\n",
    "\n",
    "https://www.probabilidadyestadistica.net/curtosis/#google_vignette"
   ]
  }
 ],
 "metadata": {
  "kernelspec": {
   "display_name": "Python 3 (ipykernel)",
   "language": "python",
   "name": "python3"
  },
  "language_info": {
   "codemirror_mode": {
    "name": "ipython",
    "version": 3
   },
   "file_extension": ".py",
   "mimetype": "text/x-python",
   "name": "python",
   "nbconvert_exporter": "python",
   "pygments_lexer": "ipython3",
   "version": "3.9.13"
  }
 },
 "nbformat": 4,
 "nbformat_minor": 5
}
